{
  "metadata": {
    "kernelspec": {
      "name": "python",
      "display_name": "Python (Pyodide)",
      "language": "python"
    },
    "language_info": {
      "codemirror_mode": {
        "name": "python",
        "version": 3
      },
      "file_extension": ".py",
      "mimetype": "text/x-python",
      "name": "python",
      "nbconvert_exporter": "python",
      "pygments_lexer": "ipython3",
      "version": "3.8"
    }
  },
  "nbformat_minor": 4,
  "nbformat": 4,
  "cells": [
    {
      "cell_type": "markdown",
      "source": "# Resolvendo um problema real no Jupyter Lite - o Problema da Mochila\n\nImagine que você é um caminhoneiro e que você tem a disposição 3 empresas que desejam contratar seus serviços para realizar fretes.\n\n- A empresa 1, fábrica de transformadores, paga 200 reais de frete por cada transformador que você transportar dela, mas, cada um de seus transformadores pesa 1250 kg;\n- A empresa 2, fábrica de cimento, paga 5 reais por cada saco de cimento que você transportar para ela e cada um de seus sacos de cimento pesa 50kg;\n- A empresa 3, ascanio maquinas de radiografia, paga 1230 reais pelo transporte de cada maquina de radiografia e cada máquina pesa 800 kg.\n\nConsiderando que nenhum item pode ser fracionado e que o limite máximo de peso que seu caminhão aguenta é de 35 toneladas, qual a combinação de itens que maximiza seu lucro?\n\nPodemos resolver com técnicas de programação linear inteira, com o uso da biblioteca scipy e é o que vamos fazer!",
      "metadata": {}
    },
    {
      "cell_type": "code",
      "source": "from scipy.optimize import milp, LinearConstraint\nimport numpy as np\n\nretornos = -np.array([200, 5, 1230, 0])\npesos = np.array([1250, 50, 800, 1])\ncapacidade_maxima = np.array([35000])\n\nvariaveis_inteiras = [1, 1, 1, 0]\nrestricoes_inteiras = LinearConstraint(\n    pesos, capacidade_maxima, capacidade_maxima\n)\n\nresult = milp(\n    retornos,\n    integrality = variaveis_inteiras,\n    constraints = restricoes_inteiras\n)\ndisplay(result)",
      "metadata": {
        "trusted": true
      },
      "outputs": [
        {
          "output_type": "display_data",
          "data": {
            "text/plain": "        message: Optimization terminated successfully. (HiGHS Status 7: Optimal)\n        success: True\n         status: 0\n            fun: -52950.0\n              x: [ 0.000e+00  1.200e+01  4.300e+01  0.000e+00]\n mip_node_count: 1\n mip_dual_bound: -52950.0\n        mip_gap: 0.0"
          },
          "metadata": {}
        }
      ],
      "execution_count": 6
    }
  ]
}